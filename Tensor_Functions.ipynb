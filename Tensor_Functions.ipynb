{
  "nbformat": 4,
  "nbformat_minor": 0,
  "metadata": {
    "colab": {
      "provenance": []
    },
    "kernelspec": {
      "name": "python3",
      "display_name": "Python 3"
    },
    "language_info": {
      "name": "python"
    }
  },
  "cells": [
    {
      "cell_type": "code",
      "source": [
        "!pip install torchmetrics"
      ],
      "metadata": {
        "id": "70_P9mymJDHx"
      },
      "execution_count": null,
      "outputs": []
    },
    {
      "cell_type": "code",
      "execution_count": null,
      "metadata": {
        "id": "dnjaIy6RZ6a_"
      },
      "outputs": [],
      "source": [
        "import torch"
      ]
    },
    {
      "cell_type": "code",
      "source": [
        "import torchmetrics"
      ],
      "metadata": {
        "id": "67TtsSoTJI7j"
      },
      "execution_count": null,
      "outputs": []
    },
    {
      "cell_type": "code",
      "source": [
        "#Creating Tensors\n",
        "tensor_a = torch.tensor([[1,2],[3,4]])\n",
        "tensor_b = torch.tensor([[5,6],[7,8]])"
      ],
      "metadata": {
        "id": "C5vd1PObazy4"
      },
      "execution_count": null,
      "outputs": []
    },
    {
      "cell_type": "code",
      "source": [
        "print(f'Tensor A: ',tensor_a,'\\nTensor B:',tensor_b)"
      ],
      "metadata": {
        "colab": {
          "base_uri": "https://localhost:8080/"
        },
        "id": "Y5Ur0zmnbINb",
        "outputId": "ac45f515-279e-48a0-98cb-11e4a74c1fb7"
      },
      "execution_count": null,
      "outputs": [
        {
          "output_type": "stream",
          "name": "stdout",
          "text": [
            "Tensor A:  tensor([[1, 2],\n",
            "        [3, 4]]) \n",
            "Tensor B: tensor([[5, 6],\n",
            "        [7, 8]])\n"
          ]
        }
      ]
    },
    {
      "cell_type": "code",
      "source": [
        "# Addition\n",
        "addtion_results = torch.add(tensor_a,tensor_b)\n",
        "print(f'Addtion of the Tensor A and Tensor B is: ',addtion_results)"
      ],
      "metadata": {
        "colab": {
          "base_uri": "https://localhost:8080/"
        },
        "id": "XsVd336drUDY",
        "outputId": "4bb3b9f0-c607-4d9c-f96f-b473d3b0cc81"
      },
      "execution_count": null,
      "outputs": [
        {
          "output_type": "stream",
          "name": "stdout",
          "text": [
            "Addtion of the Tensor A and Tensor B is:  tensor([[ 6,  8],\n",
            "        [10, 12]])\n"
          ]
        }
      ]
    },
    {
      "cell_type": "code",
      "source": [
        "# Subtraction\n",
        "subtraction_results = torch.sub(tensor_a,tensor_b)\n",
        "print(f'Subtraction of the Tensor A and Tensor B is: ',subtraction_results)"
      ],
      "metadata": {
        "colab": {
          "base_uri": "https://localhost:8080/"
        },
        "id": "wn8HuQCn9_1E",
        "outputId": "75554049-1e2d-4095-f676-c238c6bc403a"
      },
      "execution_count": null,
      "outputs": [
        {
          "output_type": "stream",
          "name": "stdout",
          "text": [
            "Subtraction of the Tensor A and Tensor B is:  tensor([[-4, -4],\n",
            "        [-4, -4]])\n"
          ]
        }
      ]
    },
    {
      "cell_type": "code",
      "source": [
        "# Element wise Multiplication\n",
        "element_wise_multi = torch.mul(tensor_a,tensor_b)\n",
        "print(f'Elementwise Multiplication of the Tensor A and Tensor B is: ',element_wise_multi)"
      ],
      "metadata": {
        "colab": {
          "base_uri": "https://localhost:8080/"
        },
        "id": "HTbBrwbnC7Pm",
        "outputId": "d661f309-9883-4939-f3b3-7f7c23308c56"
      },
      "execution_count": null,
      "outputs": [
        {
          "output_type": "stream",
          "name": "stdout",
          "text": [
            "Elementwise Multiplication of the Tensor A and Tensor B is:  tensor([[ 5, 12],\n",
            "        [21, 32]])\n"
          ]
        }
      ]
    },
    {
      "cell_type": "code",
      "source": [
        "# Matrix Multiplication\n",
        "mat_mul_results = torch.mm(tensor_a,tensor_b)\n",
        "print(f'Matrix Multiplication of the Tensor A and Tensor B is: ',mat_mul_results)"
      ],
      "metadata": {
        "colab": {
          "base_uri": "https://localhost:8080/"
        },
        "id": "9Nt2fhQyFYlp",
        "outputId": "8248345c-4ff9-4e80-8b67-116eedaaaabd"
      },
      "execution_count": null,
      "outputs": [
        {
          "output_type": "stream",
          "name": "stdout",
          "text": [
            "Matrix Multiplication of the Tensor A and Tensor B is:  tensor([[19, 22],\n",
            "        [43, 50]])\n"
          ]
        }
      ]
    },
    {
      "cell_type": "code",
      "source": [
        "#Transpose\n",
        "transpose_result = torch.transpose(tensor_a, 0, 1)\n",
        "print(f'Transpose of the Tensor A is: ',transpose_result)"
      ],
      "metadata": {
        "colab": {
          "base_uri": "https://localhost:8080/"
        },
        "id": "rfTHr5R5JaDN",
        "outputId": "15feb7db-2e40-4466-dd8d-4d97a6b7b6c4"
      },
      "execution_count": null,
      "outputs": [
        {
          "output_type": "stream",
          "name": "stdout",
          "text": [
            "Transpose of the Tensor is:  tensor([[1, 3],\n",
            "        [2, 4]])\n"
          ]
        }
      ]
    },
    {
      "cell_type": "code",
      "source": [
        "# Elementwise Division\n",
        "elementwise_divide_result = torch.div(tensor_a, tensor_b.float())\n",
        "print(f'Elementwise division of tensor A and Tensor B is: ',elementwise_divide_result)"
      ],
      "metadata": {
        "colab": {
          "base_uri": "https://localhost:8080/"
        },
        "id": "8p7UriJRSr-6",
        "outputId": "11bd6a89-05d7-4c5c-c012-23ae28b14f2c"
      },
      "execution_count": null,
      "outputs": [
        {
          "output_type": "stream",
          "name": "stdout",
          "text": [
            "Elementwise division of tensor A and Tensor B is:  tensor([[0.2000, 0.3333],\n",
            "        [0.4286, 0.5000]])\n"
          ]
        }
      ]
    },
    {
      "cell_type": "code",
      "source": [
        "# TORCH.ARANGE\n",
        "#torch.arange(5)\n",
        "#torch.arange(1,10)\n",
        "torch.arange(1,10,0.5)"
      ],
      "metadata": {
        "colab": {
          "base_uri": "https://localhost:8080/"
        },
        "id": "KRREC0IyTuCA",
        "outputId": "a28565a8-7dd5-43e7-b354-d1a2c635af16"
      },
      "execution_count": null,
      "outputs": [
        {
          "output_type": "execute_result",
          "data": {
            "text/plain": [
              "tensor([1.0000, 1.5000, 2.0000, 2.5000, 3.0000, 3.5000, 4.0000, 4.5000, 5.0000,\n",
              "        5.5000, 6.0000, 6.5000, 7.0000, 7.5000, 8.0000, 8.5000, 9.0000, 9.5000])"
            ]
          },
          "metadata": {},
          "execution_count": 28
        }
      ]
    },
    {
      "cell_type": "code",
      "source": [
        "i = torch.tensor([[0, 1, 1],\n",
        "                  [2, 0, 2]])\n",
        "v = torch.tensor([3, 4, 5], dtype=torch.float32)\n",
        "\n",
        "# Create a sparse COO tensor with specified size [2, 4]\n",
        "sparse_coo_tensor_1 = torch.sparse_coo_tensor(i, v, [2, 4])\n",
        "\n",
        "print(\"Sparse COO Tensor 1:\")\n",
        "print(sparse_coo_tensor_1)\n",
        "\n",
        "# Create a sparse COO tensor without specifying size\n",
        "sparse_coo_tensor_2 = torch.sparse_coo_tensor(i, v)\n",
        "print(\"\\nSparse COO Tensor 2:\")\n",
        "print(sparse_coo_tensor_2)\n"
      ],
      "metadata": {
        "colab": {
          "base_uri": "https://localhost:8080/"
        },
        "id": "OrJ6u0EOYLih",
        "outputId": "9a018095-87f1-4ae8-b3a7-d0a6def73b5e"
      },
      "execution_count": null,
      "outputs": [
        {
          "output_type": "stream",
          "name": "stdout",
          "text": [
            "Sparse COO Tensor 1:\n",
            "tensor(indices=tensor([[0, 1, 1],\n",
            "                       [2, 0, 2]]),\n",
            "       values=tensor([3., 4., 5.]),\n",
            "       size=(2, 4), nnz=3, layout=torch.sparse_coo)\n",
            "\n",
            "Sparse COO Tensor 2:\n",
            "tensor(indices=tensor([[0, 1, 1],\n",
            "                       [2, 0, 2]]),\n",
            "       values=tensor([3., 4., 5.]),\n",
            "       size=(2, 3), nnz=3, layout=torch.sparse_coo)\n"
          ]
        }
      ]
    },
    {
      "cell_type": "code",
      "source": [
        "# TORCH.NUMEL\n",
        "tensor_c =torch.randn(1,100)\n",
        "torch.numel(tensor_c)"
      ],
      "metadata": {
        "colab": {
          "base_uri": "https://localhost:8080/"
        },
        "id": "hlhwDfdzgoHl",
        "outputId": "846f8ed4-5fff-401f-aec9-28eeb08f85b1"
      },
      "execution_count": null,
      "outputs": [
        {
          "output_type": "execute_result",
          "data": {
            "text/plain": [
              "100"
            ]
          },
          "metadata": {},
          "execution_count": 39
        }
      ]
    },
    {
      "cell_type": "code",
      "source": [
        "#Elementwise exponentiation\n",
        "elementwise_exp_result = torch.exp(tensor_a.float())\n",
        "print(f'Elementwise Exponential of Tensor_a is :',elementwise_exp_result )"
      ],
      "metadata": {
        "colab": {
          "base_uri": "https://localhost:8080/"
        },
        "id": "i-5yugj7iTS0",
        "outputId": "7a65705b-9119-4f73-efea-5b0841b28ade"
      },
      "execution_count": null,
      "outputs": [
        {
          "output_type": "stream",
          "name": "stdout",
          "text": [
            "Elementwise Exponential of Tensor_a is : tensor([[ 2.7183,  7.3891],\n",
            "        [20.0855, 54.5981]])\n"
          ]
        }
      ]
    },
    {
      "cell_type": "code",
      "source": [
        "# Concatenation along a dimension\n",
        "concatenation_result = torch.cat((tensor_a, tensor_b), dim=0)\n",
        "print(f'Concatenation along a dimension :',concatenation_result )"
      ],
      "metadata": {
        "colab": {
          "base_uri": "https://localhost:8080/"
        },
        "id": "1rM3bk8Qjgh-",
        "outputId": "e237cbf9-1694-4b88-9c08-283419d20e3b"
      },
      "execution_count": null,
      "outputs": [
        {
          "output_type": "stream",
          "name": "stdout",
          "text": [
            "Concatenation along a dimension : tensor([[1, 2],\n",
            "        [3, 4],\n",
            "        [5, 6],\n",
            "        [7, 8]])\n"
          ]
        }
      ]
    },
    {
      "cell_type": "code",
      "source": [
        "# Reshape tensor\n",
        "reshaped_result = tensor_a.view(-1)\n",
        "print(f'reshaped_result :',reshaped_result )"
      ],
      "metadata": {
        "colab": {
          "base_uri": "https://localhost:8080/"
        },
        "id": "M2Yw5K97l6WM",
        "outputId": "6d5a3f76-8004-4823-97b0-5a2818c30543"
      },
      "execution_count": null,
      "outputs": [
        {
          "output_type": "stream",
          "name": "stdout",
          "text": [
            "reshaped_result : tensor([1, 2, 3, 4])\n"
          ]
        }
      ]
    },
    {
      "cell_type": "code",
      "source": [
        "#Elementwise greater than\n",
        "elementwise_greater_than_result = torch.gt(tensor_a, tensor_b)\n",
        "\n",
        "#Elementwise less than\n",
        "elementwise_less_than_result = torch.lt(tensor_a, tensor_b)\n",
        "print(\"\\nElementwise Greater Than Result:\")\n",
        "print(elementwise_greater_than_result)\n",
        "print(\"\\nElementwise Less Than Result:\")\n",
        "print(elementwise_less_than_result)"
      ],
      "metadata": {
        "colab": {
          "base_uri": "https://localhost:8080/"
        },
        "id": "S8TtqFtHn3H9",
        "outputId": "db2d2e6f-1335-472a-d3af-33ded1a7b176"
      },
      "execution_count": null,
      "outputs": [
        {
          "output_type": "stream",
          "name": "stdout",
          "text": [
            "\n",
            "Elementwise Greater Than Result:\n",
            "tensor([[False, False],\n",
            "        [False, False]])\n",
            "\n",
            "Elementwise Less Than Result:\n",
            "tensor([[True, True],\n",
            "        [True, True]])\n"
          ]
        }
      ]
    },
    {
      "cell_type": "code",
      "source": [
        "tensor_a = torch.tensor([[1, 2], [3, 4]], dtype=torch.float32)\n",
        "tensor_b = torch.tensor([[5, 6], [7, 8]], dtype=torch.float32)"
      ],
      "metadata": {
        "id": "qdz7AWBXqblP"
      },
      "execution_count": null,
      "outputs": []
    },
    {
      "cell_type": "code",
      "source": [
        "#Matrix determinant\n",
        "matrix_determinant = torch.det(tensor_a)\n",
        "print(\"Matrix Determinant:\")\n",
        "print(matrix_determinant)\n"
      ],
      "metadata": {
        "colab": {
          "base_uri": "https://localhost:8080/"
        },
        "id": "fy4EnMXaqmjN",
        "outputId": "a411e755-0695-474a-e28c-40290f090fec"
      },
      "execution_count": null,
      "outputs": [
        {
          "output_type": "stream",
          "name": "stdout",
          "text": [
            "Matrix Determinant:\n",
            "tensor(-2.)\n"
          ]
        }
      ]
    },
    {
      "cell_type": "code",
      "source": [
        "#TORCH.FULL\n",
        "torch.full((2,2),5)"
      ],
      "metadata": {
        "colab": {
          "base_uri": "https://localhost:8080/"
        },
        "id": "sl2SCZdesN1H",
        "outputId": "b343b793-6164-477c-8d7a-5945ec363bde"
      },
      "execution_count": null,
      "outputs": [
        {
          "output_type": "execute_result",
          "data": {
            "text/plain": [
              "tensor([[5, 5],\n",
              "        [5, 5]])"
            ]
          },
          "metadata": {},
          "execution_count": 49
        }
      ]
    },
    {
      "cell_type": "code",
      "source": [
        "#TORCH.MASKED_SELECT\n",
        "tensor_d = torch.rand(2,2)\n",
        "print(tensor_d,'\\n')\n",
        "mask = tensor_d.ge(0.5)\n",
        "print(mask,'\\n')\n",
        "selected_values = torch.masked_select(tensor_d, mask)\n",
        "print(selected_values)"
      ],
      "metadata": {
        "colab": {
          "base_uri": "https://localhost:8080/"
        },
        "id": "TkwNs7Ovt99e",
        "outputId": "a068c4b1-4c7e-44f9-b145-4ec8738dd5dc"
      },
      "execution_count": null,
      "outputs": [
        {
          "output_type": "stream",
          "name": "stdout",
          "text": [
            "tensor([[0.2868, 0.0913],\n",
            "        [0.5726, 0.6436]]) \n",
            "\n",
            "tensor([[False, False],\n",
            "        [ True,  True]]) \n",
            "\n",
            "tensor([0.5726, 0.6436])\n"
          ]
        }
      ]
    },
    {
      "cell_type": "code",
      "source": [
        "# Batch matrix multiplication\n",
        "batched_matrix_a = torch.rand(3, 2, 2)\n",
        "batched_matrix_b = torch.rand(3, 2, 2)\n",
        "print(batched_matrix_a,'\\n',batched_matrix_b,'\\n')\n",
        "batched_matrix_multiply_result = torch.bmm(batched_matrix_a, batched_matrix_b)\n",
        "print(\"\\nBatch Matrix Multiplication Result:\")\n",
        "print(batched_matrix_multiply_result)"
      ],
      "metadata": {
        "colab": {
          "base_uri": "https://localhost:8080/"
        },
        "id": "YFeyK2VXzj0v",
        "outputId": "4e59fce1-b6f3-4f49-aed5-44d30525ce32"
      },
      "execution_count": null,
      "outputs": [
        {
          "output_type": "stream",
          "name": "stdout",
          "text": [
            "tensor([[[0.8176, 0.9138],\n",
            "         [0.2785, 0.1611]],\n",
            "\n",
            "        [[0.9226, 0.8993],\n",
            "         [0.0601, 0.2610]],\n",
            "\n",
            "        [[0.2041, 0.5310],\n",
            "         [0.8635, 0.5005]]]) \n",
            " tensor([[[0.7942, 0.3209],\n",
            "         [0.1028, 0.8022]],\n",
            "\n",
            "        [[0.4398, 0.6017],\n",
            "         [0.8370, 0.5187]],\n",
            "\n",
            "        [[0.0945, 0.6098],\n",
            "         [0.7600, 0.8448]]]) \n",
            "\n",
            "\n",
            "Batch Matrix Multiplication Result:\n",
            "tensor([[[0.7432, 0.9955],\n",
            "         [0.2377, 0.2186]],\n",
            "\n",
            "        [[1.1584, 1.0215],\n",
            "         [0.2449, 0.1715]],\n",
            "\n",
            "        [[0.4228, 0.5730],\n",
            "         [0.4620, 0.9493]]])\n"
          ]
        }
      ]
    },
    {
      "cell_type": "code",
      "source": [
        "# TORCH.VSPLIT\n",
        "# Create a 4x4 tensor\n",
        "t = torch.arange(16.0).reshape(4, 4)\n",
        "print(t)\n",
        "\n",
        "# Split the tensor into two along the rows\n",
        "split_result_1 = torch.vsplit(t, 2)\n",
        "print(split_result_1)\n",
        "\n",
        "# Split the tensor into three along the rows with specified indices\n",
        "split_result_2 = torch.vsplit(t, [3, 6])\n",
        "print(split_result_2)\n"
      ],
      "metadata": {
        "colab": {
          "base_uri": "https://localhost:8080/"
        },
        "id": "-JzDc9rc5TsZ",
        "outputId": "7a8ba931-9464-4e72-b1e9-b2a804a6676b"
      },
      "execution_count": null,
      "outputs": [
        {
          "output_type": "stream",
          "name": "stdout",
          "text": [
            "tensor([[ 0.,  1.,  2.,  3.],\n",
            "        [ 4.,  5.,  6.,  7.],\n",
            "        [ 8.,  9., 10., 11.],\n",
            "        [12., 13., 14., 15.]])\n",
            "(tensor([[0., 1., 2., 3.],\n",
            "        [4., 5., 6., 7.]]), tensor([[ 8.,  9., 10., 11.],\n",
            "        [12., 13., 14., 15.]]))\n",
            "(tensor([[ 0.,  1.,  2.,  3.],\n",
            "        [ 4.,  5.,  6.,  7.],\n",
            "        [ 8.,  9., 10., 11.]]), tensor([[12., 13., 14., 15.]]), tensor([], size=(0, 4)))\n"
          ]
        }
      ]
    },
    {
      "cell_type": "code",
      "source": [
        "#Repeat tensor along a dimension\n",
        "repeated_tensor = tensor_a.repeat(2, 3)\n",
        "print(\"\\nRepeated Tensor:\")\n",
        "print(repeated_tensor)"
      ],
      "metadata": {
        "colab": {
          "base_uri": "https://localhost:8080/"
        },
        "id": "aWU2NAG97iZg",
        "outputId": "05ede317-8d3c-4ec4-9c33-4c86bf682315"
      },
      "execution_count": null,
      "outputs": [
        {
          "output_type": "stream",
          "name": "stdout",
          "text": [
            "\n",
            "Repeated Tensor:\n",
            "tensor([[1., 2., 1., 2., 1., 2.],\n",
            "        [3., 4., 3., 4., 3., 4.],\n",
            "        [1., 2., 1., 2., 1., 2.],\n",
            "        [3., 4., 3., 4., 3., 4.]])\n"
          ]
        }
      ]
    },
    {
      "cell_type": "code",
      "source": [
        "tensor_e = torch.tensor([[2,3,4],[5,2,1]])\n",
        "\n",
        "# Cumulative product along a dimension\n",
        "cumulative_product_result = torch.cumprod(tensor_e, dim=1)\n",
        "print(\"\\nCumulative Product Result:\")\n",
        "print(cumulative_product_result)"
      ],
      "metadata": {
        "colab": {
          "base_uri": "https://localhost:8080/"
        },
        "id": "tLpWMsaOAIBi",
        "outputId": "e079bcfe-4b56-4620-87dc-ab67ddc5b0c4"
      },
      "execution_count": null,
      "outputs": [
        {
          "output_type": "stream",
          "name": "stdout",
          "text": [
            "\n",
            "Cumulative Product Result:\n",
            "tensor([[ 2,  6, 24],\n",
            "        [ 5, 10, 10]])\n"
          ]
        }
      ]
    },
    {
      "cell_type": "code",
      "source": [
        "# TORCH.PERMUTE\n",
        "x = torch.randn(2, 3, 5)\n",
        "print(x)\n",
        "print(x.size(),'\\n')\n",
        "\n",
        "torch.permute(x, (2, 0, 1))"
      ],
      "metadata": {
        "colab": {
          "base_uri": "https://localhost:8080/"
        },
        "id": "WqFrI_HCBwcp",
        "outputId": "3b273c8b-d74d-44bc-b7a8-25735c532d17"
      },
      "execution_count": null,
      "outputs": [
        {
          "output_type": "stream",
          "name": "stdout",
          "text": [
            "tensor([[[ 1.5880,  0.7639,  0.5755,  0.2814, -0.2978],\n",
            "         [ 0.5198, -0.9649, -0.7114, -0.7560,  0.8767],\n",
            "         [-0.3643,  0.2914,  1.1468,  0.7619, -0.7350]],\n",
            "\n",
            "        [[ 0.2616,  1.0866,  0.5497,  0.8726, -0.6225],\n",
            "         [ 0.6467,  0.6140, -0.2402,  0.7382, -0.1878],\n",
            "         [ 0.8570, -0.4697,  0.6649, -0.3207,  1.0428]]])\n",
            "torch.Size([2, 3, 5]) \n",
            "\n"
          ]
        },
        {
          "output_type": "execute_result",
          "data": {
            "text/plain": [
              "tensor([[[ 1.5880,  0.5198, -0.3643],\n",
              "         [ 0.2616,  0.6467,  0.8570]],\n",
              "\n",
              "        [[ 0.7639, -0.9649,  0.2914],\n",
              "         [ 1.0866,  0.6140, -0.4697]],\n",
              "\n",
              "        [[ 0.5755, -0.7114,  1.1468],\n",
              "         [ 0.5497, -0.2402,  0.6649]],\n",
              "\n",
              "        [[ 0.2814, -0.7560,  0.7619],\n",
              "         [ 0.8726,  0.7382, -0.3207]],\n",
              "\n",
              "        [[-0.2978,  0.8767, -0.7350],\n",
              "         [-0.6225, -0.1878,  1.0428]]])"
            ]
          },
          "metadata": {},
          "execution_count": 71
        }
      ]
    },
    {
      "cell_type": "code",
      "source": [
        "# Define a condition and two tensors\n",
        "condition = torch.tensor([[True, False], [False, True]])\n",
        "x = torch.tensor([[1, 2], [3, 4]])\n",
        "y = torch.tensor([[5, 6], [7, 8]])\n",
        "\n",
        "# Use torch.where to select elements based on the condition\n",
        "result = torch.where(condition, x, y)\n",
        "print(result)\n"
      ],
      "metadata": {
        "colab": {
          "base_uri": "https://localhost:8080/"
        },
        "id": "XpPly0qcIgBr",
        "outputId": "2256604e-a7a5-4f4f-fd3d-d592e2e907cd"
      },
      "execution_count": null,
      "outputs": [
        {
          "output_type": "stream",
          "name": "stdout",
          "text": [
            "tensor([[1, 6],\n",
            "        [7, 4]])\n"
          ]
        }
      ]
    },
    {
      "cell_type": "code",
      "source": [
        "import torch.nn.functional as F\n",
        "\n",
        "# Define a tensor\n",
        "input_tensor = torch.tensor([[1, 2, 3],\n",
        "                             [4, 5, 6]])\n",
        "\n",
        "# Apply zero-padding using F.pad\n",
        "padded_tensor = F.pad(input_tensor, (1, 2))\n",
        "print(padded_tensor)"
      ],
      "metadata": {
        "colab": {
          "base_uri": "https://localhost:8080/"
        },
        "id": "bnuyCDUMMOdm",
        "outputId": "fa43df32-a03d-46b1-83fc-acf11825c09c"
      },
      "execution_count": null,
      "outputs": [
        {
          "output_type": "stream",
          "name": "stdout",
          "text": [
            "tensor([[0, 1, 2, 3, 0, 0],\n",
            "        [0, 4, 5, 6, 0, 0]])\n"
          ]
        }
      ]
    },
    {
      "cell_type": "code",
      "source": [
        "# Create a tensor\n",
        "input_tensor = torch.tensor([[3, 1, 4], [1, 5, 9]])\n",
        "\n",
        "# Find the indices of the maximum values along a specified axis (default: last axis)\n",
        "max_indices = torch.argmax(input_tensor)\n",
        "print(max_indices)\n"
      ],
      "metadata": {
        "colab": {
          "base_uri": "https://localhost:8080/"
        },
        "id": "gGxRfMGYOvIc",
        "outputId": "c5b0537b-8fc3-407f-b6a8-ab932ba4df6d"
      },
      "execution_count": null,
      "outputs": [
        {
          "output_type": "stream",
          "name": "stdout",
          "text": [
            "tensor(5)\n"
          ]
        }
      ]
    },
    {
      "cell_type": "code",
      "source": [
        "# Define a tensor and create a computation graph\n",
        "x = torch.tensor(2.0, requires_grad=True)\n",
        "y = x ** 2\n",
        "z = y + 3\n",
        "\n",
        "# Compute the gradient of z with respect to x using torch.autograd.grad\n",
        "gradient = torch.autograd.grad(z, x)\n",
        "print(\"Gradient:\", gradient[0].item())\n"
      ],
      "metadata": {
        "id": "IXdni9tLSG_e",
        "outputId": "edaba2f6-2dd0-4fca-ac46-81b40651b222",
        "colab": {
          "base_uri": "https://localhost:8080/"
        }
      },
      "execution_count": null,
      "outputs": [
        {
          "output_type": "stream",
          "name": "stdout",
          "text": [
            "Gradient: 4.0\n"
          ]
        }
      ]
    }
  ]
}